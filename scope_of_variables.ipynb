{
  "nbformat": 4,
  "nbformat_minor": 0,
  "metadata": {
    "colab": {
      "provenance": []
    },
    "kernelspec": {
      "name": "python3",
      "display_name": "Python 3"
    },
    "language_info": {
      "name": "python"
    }
  },
  "cells": [
    {
      "cell_type": "code",
      "execution_count": 5,
      "metadata": {
        "colab": {
          "base_uri": "https://localhost:8080/"
        },
        "id": "PzTmJP0uY8p1",
        "outputId": "8f893292-2d71-4d12-8e16-9ef620307d1d"
      },
      "outputs": [
        {
          "output_type": "stream",
          "name": "stdout",
          "text": [
            "global x\n",
            "local x\n",
            "global x\n"
          ]
        }
      ],
      "source": [
        "x = 'global x'\n",
        "\n",
        "def test():\n",
        "  x = 'local x'\n",
        "  print(x)\n",
        "\n",
        "print(x)\n",
        "test()\n",
        "print(x)"
      ]
    },
    {
      "cell_type": "code",
      "source": [
        "x = 'global x'\n",
        "\n",
        "def test():\n",
        "  global x\n",
        "  x = 'local x'\n",
        "  print(x)\n",
        "\n",
        "print(x)\n",
        "test()\n",
        "print(x)"
      ],
      "metadata": {
        "colab": {
          "base_uri": "https://localhost:8080/"
        },
        "id": "9iSofTz3ZGEK",
        "outputId": "a98200b7-837f-4152-b704-cb75ac709d0f"
      },
      "execution_count": 4,
      "outputs": [
        {
          "output_type": "stream",
          "name": "stdout",
          "text": [
            "global x\n",
            "local x\n",
            "local x\n"
          ]
        }
      ]
    },
    {
      "cell_type": "markdown",
      "source": [
        "Including arguments"
      ],
      "metadata": {
        "id": "dEBE-MDzbPL9"
      }
    },
    {
      "cell_type": "code",
      "source": [
        "x = 'global x'\n",
        "z = 'global z'\n",
        "\n",
        "def test(z):\n",
        "  global x\n",
        "  x = 'local x'\n",
        "  print(z)\n",
        "  print(x)\n",
        "\n",
        "print(z)\n",
        "print(x)\n",
        "test('local z')\n",
        "print(x)"
      ],
      "metadata": {
        "colab": {
          "base_uri": "https://localhost:8080/"
        },
        "id": "MgrebiCTZzjh",
        "outputId": "c14023ef-5af2-4429-a256-6319aa0d8582"
      },
      "execution_count": 9,
      "outputs": [
        {
          "output_type": "stream",
          "name": "stdout",
          "text": [
            "global z\n",
            "global x\n",
            "local z\n",
            "local x\n",
            "local x\n"
          ]
        }
      ]
    },
    {
      "cell_type": "markdown",
      "source": [
        "Nested functions"
      ],
      "metadata": {
        "id": "vbpT9IJsdEaf"
      }
    },
    {
      "cell_type": "code",
      "source": [
        "def outer():\n",
        "\n",
        "  x = 'outer x'\n",
        "\n",
        "  def inner():\n",
        "    x = 'inner x'\n",
        "    print(x)\n",
        "\n",
        "  inner()\n",
        "  print(x)\n",
        "\n",
        "outer()"
      ],
      "metadata": {
        "colab": {
          "base_uri": "https://localhost:8080/"
        },
        "id": "zJvOccCkbXiP",
        "outputId": "6b29b5e7-4986-4df8-8bca-72be6646d805"
      },
      "execution_count": 10,
      "outputs": [
        {
          "output_type": "stream",
          "name": "stdout",
          "text": [
            "inner x\n",
            "outer x\n"
          ]
        }
      ]
    },
    {
      "cell_type": "code",
      "source": [
        "def outer():\n",
        "\n",
        "  x = 'outer x'\n",
        "\n",
        "  def inner():\n",
        "    nonlocal x\n",
        "    x = 'inner x'\n",
        "    print(x)\n",
        "\n",
        "  inner()\n",
        "  print(x)\n",
        "\n",
        "outer()"
      ],
      "metadata": {
        "colab": {
          "base_uri": "https://localhost:8080/"
        },
        "id": "OJveuaVWdXov",
        "outputId": "49fb0abf-0aa5-40fb-ebaf-bf33166d6be8"
      },
      "execution_count": 11,
      "outputs": [
        {
          "output_type": "stream",
          "name": "stdout",
          "text": [
            "inner x\n",
            "inner x\n"
          ]
        }
      ]
    },
    {
      "cell_type": "code",
      "source": [],
      "metadata": {
        "id": "EO5X-cmUeSWQ"
      },
      "execution_count": null,
      "outputs": []
    }
  ]
}