{
  "nbformat": 4,
  "nbformat_minor": 0,
  "metadata": {
    "colab": {
      "provenance": []
    },
    "kernelspec": {
      "name": "python3",
      "display_name": "Python 3"
    },
    "language_info": {
      "name": "python"
    }
  },
  "cells": [
    {
      "cell_type": "code",
      "execution_count": null,
      "metadata": {
        "colab": {
          "base_uri": "https://localhost:8080/"
        },
        "id": "ExRrE8rEuxbs",
        "outputId": "dc41662c-33ec-483f-a3d2-3c00e31f6699"
      },
      "outputs": [
        {
          "output_type": "stream",
          "name": "stdout",
          "text": [
            "[[37.45401188 95.07143064 73.19939418 59.86584842 15.60186404 15.59945203\n",
            "   5.80836122 86.61761458 60.11150117 70.80725778  2.05844943 96.99098522]\n",
            " [83.24426408 21.23391107 18.18249672 18.34045099 30.4242243  52.47564316\n",
            "  43.19450186 29.12291402 61.18528947 13.94938607 29.21446485 36.63618433]\n",
            " [45.60699842 78.51759614 19.96737822 51.42344384 59.24145689  4.64504127\n",
            "  60.75448519 17.05241237  6.5051593  94.88855373 96.56320331 80.83973481]\n",
            " [30.46137692  9.7672114  68.42330265 44.01524937 12.20382348 49.51769101\n",
            "   3.43885211 90.93204021 25.87799816 66.25222844 31.17110761 52.00680212]\n",
            " [54.67102793 18.48544555 96.95846278 77.51328234 93.94989416 89.48273504\n",
            "  59.78999788 92.1874235   8.84925021 19.59828624  4.52272889 32.53303308]]\n"
          ]
        }
      ],
      "source": [
        "import numpy as np\n",
        "\n",
        "# Generate a synthetic 100x12 dataset\n",
        "np.random.seed(42) # For reproducible results\n",
        "data = np.random.rand(100, 12) * 100 # 100 rows, 12 features\n",
        "\n",
        "print(data[:5])  # Show the first 5 rows to verify changes"
      ]
    },
    {
      "cell_type": "code",
      "source": [
        "# Continuous columns indexes (Python index starting at 0)\n",
        "continuous_columns = [4, 5, 6, 7]\n",
        "\n",
        "# Convert each continuous column\n",
        "for col in continuous_columns:\n",
        "    # Calculate bin edges based on quartiles\n",
        "    quartiles = np.percentile(data[:, col], [25, 50, 75])\n",
        "    bin_edges = np.hstack(([data[:, col].min()], quartiles, data[:, col].max()))\n",
        "\n",
        "    # Bin the data\n",
        "    binned_data = np.digitize(data[:, col], bins=bin_edges, right=True)\n",
        "\n",
        "    # (Optional) Convert binned data to categorical labels\n",
        "    # Note: Adjust the labels based on your bin edges\n",
        "    labels = ['Q1', 'Q2', 'Q3', 'Q4']\n",
        "    categorical_data = np.array([labels[i-1] for i in binned_data])\n",
        "\n",
        "    # Replace the original continuous data with categorical data\n",
        "    # For simplicity in this example, I'm directly replacing the numerical bin indicators.\n",
        "    # You could also replace them with string labels or use a separate structure.\n",
        "    data[:, col] = binned_data\n",
        "\n",
        "# Now your dataset `data` has the 4 continuous features converted into categorical data.\n",
        "print(data[:5])  # Show the first 5 rows to verify changes\n"
      ],
      "metadata": {
        "colab": {
          "base_uri": "https://localhost:8080/"
        },
        "id": "ZF6kDgAou18_",
        "outputId": "1e101a28-d73b-4ed7-e58b-9cf67e8e429c"
      },
      "execution_count": null,
      "outputs": [
        {
          "output_type": "stream",
          "name": "stdout",
          "text": [
            "[[37.45401188 95.07143064 73.19939418 59.86584842  2.          1.\n",
            "   1.          4.         60.11150117 70.80725778  2.05844943 96.99098522]\n",
            " [83.24426408 21.23391107 18.18249672 18.34045099  2.          3.\n",
            "   2.          1.         61.18528947 13.94938607 29.21446485 36.63618433]\n",
            " [45.60699842 78.51759614 19.96737822 51.42344384  3.          1.\n",
            "   3.          1.          6.5051593  94.88855373 96.56320331 80.83973481]\n",
            " [30.46137692  9.7672114  68.42330265 44.01524937  1.          3.\n",
            "   1.          4.         25.87799816 66.25222844 31.17110761 52.00680212]\n",
            " [54.67102793 18.48544555 96.95846278 77.51328234  4.          4.\n",
            "   3.          4.          8.84925021 19.59828624  4.52272889 32.53303308]]\n"
          ]
        }
      ]
    },
    {
      "cell_type": "code",
      "source": [
        "import numpy as np\n",
        "\n",
        "n = 5\n",
        "a = np.arange(n)\n",
        "blacked = np.random.randint(0,5,2)\n",
        "a[np.isin(a,blacked)]\n",
        "\n",
        "np.random.choice(a)"
      ],
      "metadata": {
        "colab": {
          "base_uri": "https://localhost:8080/"
        },
        "id": "5TcmvE5vvAJO",
        "outputId": "e6571d9e-0180-4923-f474-0978bad26a2d"
      },
      "execution_count": null,
      "outputs": [
        {
          "output_type": "execute_result",
          "data": {
            "text/plain": [
              "2"
            ]
          },
          "metadata": {},
          "execution_count": 11
        }
      ]
    },
    {
      "cell_type": "code",
      "source": [
        "a"
      ],
      "metadata": {
        "colab": {
          "base_uri": "https://localhost:8080/"
        },
        "id": "cj19ax4mQ3ux",
        "outputId": "d32affb3-a16a-4448-cf16-36736ee4d95d"
      },
      "execution_count": null,
      "outputs": [
        {
          "output_type": "execute_result",
          "data": {
            "text/plain": [
              "array([0, 1, 2, 3, 4])"
            ]
          },
          "metadata": {},
          "execution_count": 7
        }
      ]
    },
    {
      "cell_type": "code",
      "source": [
        "blacked"
      ],
      "metadata": {
        "colab": {
          "base_uri": "https://localhost:8080/"
        },
        "id": "vrA7fLD9REuD",
        "outputId": "d5d04389-b584-4c0c-977a-dcf8da301c56"
      },
      "execution_count": null,
      "outputs": [
        {
          "output_type": "execute_result",
          "data": {
            "text/plain": [
              "array([0, 3])"
            ]
          },
          "metadata": {},
          "execution_count": 8
        }
      ]
    },
    {
      "cell_type": "code",
      "source": [],
      "metadata": {
        "colab": {
          "base_uri": "https://localhost:8080/"
        },
        "id": "kJ8Sjk_dRFSW",
        "outputId": "ec4dd883-e0ac-4b17-9f22-4d6503486dc0"
      },
      "execution_count": null,
      "outputs": [
        {
          "output_type": "execute_result",
          "data": {
            "text/plain": [
              "array([ True, False, False,  True, False])"
            ]
          },
          "metadata": {},
          "execution_count": 10
        }
      ]
    },
    {
      "cell_type": "code",
      "source": [
        "import torch\n",
        "\n",
        "torch.randn((2,3))"
      ],
      "metadata": {
        "id": "umke6Q0ZROHy",
        "colab": {
          "base_uri": "https://localhost:8080/"
        },
        "outputId": "8fc81e23-20af-491e-d180-f454d8e94650"
      },
      "execution_count": 12,
      "outputs": [
        {
          "output_type": "execute_result",
          "data": {
            "text/plain": [
              "tensor([[-0.0638,  0.8521, -1.2255],\n",
              "        [-0.5718,  0.7706, -0.3264]])"
            ]
          },
          "metadata": {},
          "execution_count": 12
        }
      ]
    },
    {
      "cell_type": "code",
      "source": [
        "a = torch.arange(5)\n",
        "a = a.view(-1,1)\n",
        "b = torch.arange(3)\n",
        "b = b.view(-1,1)\n",
        "c = a@b.T"
      ],
      "metadata": {
        "id": "rPHU-sYvwpvj"
      },
      "execution_count": 19,
      "outputs": []
    },
    {
      "cell_type": "code",
      "source": [
        "a.shape"
      ],
      "metadata": {
        "colab": {
          "base_uri": "https://localhost:8080/"
        },
        "id": "T_YZnZoRvuC1",
        "outputId": "b8d90793-9f97-4824-ef2a-4a0220b6c57f"
      },
      "execution_count": 20,
      "outputs": [
        {
          "output_type": "execute_result",
          "data": {
            "text/plain": [
              "torch.Size([5, 1])"
            ]
          },
          "metadata": {},
          "execution_count": 20
        }
      ]
    },
    {
      "cell_type": "code",
      "source": [
        "torch.einsum('ij->ji',c)"
      ],
      "metadata": {
        "colab": {
          "base_uri": "https://localhost:8080/"
        },
        "id": "mGWEireJw8jW",
        "outputId": "aff8f8ea-c5a8-42a5-a18f-27814b7e24b2"
      },
      "execution_count": 22,
      "outputs": [
        {
          "output_type": "execute_result",
          "data": {
            "text/plain": [
              "tensor([[0, 0, 0, 0, 0],\n",
              "        [0, 1, 2, 3, 4],\n",
              "        [0, 2, 4, 6, 8]])"
            ]
          },
          "metadata": {},
          "execution_count": 22
        }
      ]
    },
    {
      "cell_type": "code",
      "source": [
        "c"
      ],
      "metadata": {
        "colab": {
          "base_uri": "https://localhost:8080/"
        },
        "id": "2SiJVvKtx0IH",
        "outputId": "5fc92aed-ee0d-4ed3-e422-4f182f497b91"
      },
      "execution_count": 23,
      "outputs": [
        {
          "output_type": "execute_result",
          "data": {
            "text/plain": [
              "tensor([[0, 0, 0],\n",
              "        [0, 1, 2],\n",
              "        [0, 2, 4],\n",
              "        [0, 3, 6],\n",
              "        [0, 4, 8]])"
            ]
          },
          "metadata": {},
          "execution_count": 23
        }
      ]
    },
    {
      "cell_type": "code",
      "source": [
        "torch.einsum('ij->',c)"
      ],
      "metadata": {
        "colab": {
          "base_uri": "https://localhost:8080/"
        },
        "id": "kU3BEmzwx5jz",
        "outputId": "461d8c54-163a-45f8-b046-fef4a5db05c8"
      },
      "execution_count": 24,
      "outputs": [
        {
          "output_type": "execute_result",
          "data": {
            "text/plain": [
              "tensor(30)"
            ]
          },
          "metadata": {},
          "execution_count": 24
        }
      ]
    },
    {
      "cell_type": "code",
      "source": [
        "torch.einsum('ij->i',c)"
      ],
      "metadata": {
        "colab": {
          "base_uri": "https://localhost:8080/"
        },
        "id": "fhIWlFDOyNk_",
        "outputId": "5991d457-6143-4977-dd01-3a19260e574f"
      },
      "execution_count": 25,
      "outputs": [
        {
          "output_type": "execute_result",
          "data": {
            "text/plain": [
              "tensor([ 0,  3,  6,  9, 12])"
            ]
          },
          "metadata": {},
          "execution_count": 25
        }
      ]
    },
    {
      "cell_type": "code",
      "source": [
        "torch.einsum('ij->i',c)"
      ],
      "metadata": {
        "colab": {
          "base_uri": "https://localhost:8080/"
        },
        "id": "cN0As209yVq5",
        "outputId": "fbbd5199-0856-4334-dbcf-525a5e3478c2"
      },
      "execution_count": 26,
      "outputs": [
        {
          "output_type": "execute_result",
          "data": {
            "text/plain": [
              "tensor([ 0,  3,  6,  9, 12])"
            ]
          },
          "metadata": {},
          "execution_count": 26
        }
      ]
    },
    {
      "cell_type": "code",
      "source": [],
      "metadata": {
        "colab": {
          "base_uri": "https://localhost:8080/"
        },
        "id": "TnzM-QN9yk6b",
        "outputId": "ccc0d1f8-17e6-41ee-caa2-5e5f3b9f5dbb"
      },
      "execution_count": 32,
      "outputs": [
        {
          "output_type": "execute_result",
          "data": {
            "text/plain": [
              "tensor([  0,  30,  60,  90, 120])"
            ]
          },
          "metadata": {},
          "execution_count": 32
        }
      ]
    },
    {
      "cell_type": "code",
      "source": [
        "a.shape"
      ],
      "metadata": {
        "colab": {
          "base_uri": "https://localhost:8080/"
        },
        "id": "beY5selMyy9Y",
        "outputId": "30fdf9fd-6655-4b4e-fa66-fb225811575d"
      },
      "execution_count": 33,
      "outputs": [
        {
          "output_type": "execute_result",
          "data": {
            "text/plain": [
              "torch.Size([5, 1])"
            ]
          },
          "metadata": {},
          "execution_count": 33
        }
      ]
    },
    {
      "cell_type": "code",
      "source": [
        "c.shape"
      ],
      "metadata": {
        "colab": {
          "base_uri": "https://localhost:8080/"
        },
        "id": "V_fZXU9VzQ5y",
        "outputId": "b9438f5a-9e50-4e2f-ca5d-869f09797bc2"
      },
      "execution_count": 35,
      "outputs": [
        {
          "output_type": "execute_result",
          "data": {
            "text/plain": [
              "torch.Size([5, 3])"
            ]
          },
          "metadata": {},
          "execution_count": 35
        }
      ]
    },
    {
      "cell_type": "code",
      "source": [
        "torch.einsum('ji,jk->ik',a,c)"
      ],
      "metadata": {
        "colab": {
          "base_uri": "https://localhost:8080/"
        },
        "id": "WvsHQLKRzSw6",
        "outputId": "40007e0c-6d7e-4ced-842f-63cf51fd579c"
      },
      "execution_count": 39,
      "outputs": [
        {
          "output_type": "execute_result",
          "data": {
            "text/plain": [
              "tensor([[ 0, 30, 60]])"
            ]
          },
          "metadata": {},
          "execution_count": 39
        }
      ]
    },
    {
      "cell_type": "code",
      "source": [
        "c = torch.randint(0,3,(3,3))\n",
        "print(c)\n",
        "torch.einsum('ii->',c)"
      ],
      "metadata": {
        "colab": {
          "base_uri": "https://localhost:8080/"
        },
        "id": "rFaWhe61zm1Q",
        "outputId": "13c465d9-ffd5-46a2-8c44-6f03114c6418"
      },
      "execution_count": 53,
      "outputs": [
        {
          "output_type": "stream",
          "name": "stdout",
          "text": [
            "tensor([[2, 1, 2],\n",
            "        [1, 2, 0],\n",
            "        [1, 2, 1]])\n"
          ]
        },
        {
          "output_type": "execute_result",
          "data": {
            "text/plain": [
              "tensor(5)"
            ]
          },
          "metadata": {},
          "execution_count": 53
        }
      ]
    },
    {
      "cell_type": "code",
      "source": [
        "torch.einsum('ii->i',c)"
      ],
      "metadata": {
        "colab": {
          "base_uri": "https://localhost:8080/"
        },
        "id": "WJBK0Zns2jZj",
        "outputId": "5aacf8b5-b7eb-44e8-819b-1654a2297ca2"
      },
      "execution_count": 54,
      "outputs": [
        {
          "output_type": "execute_result",
          "data": {
            "text/plain": [
              "tensor([2, 2, 1])"
            ]
          },
          "metadata": {},
          "execution_count": 54
        }
      ]
    },
    {
      "cell_type": "code",
      "source": [
        "torch.sqrt(torch.einsum('ij->',torch.einsum('ij,ij->ij',c,c)))"
      ],
      "metadata": {
        "colab": {
          "base_uri": "https://localhost:8080/"
        },
        "id": "_xCG--NQ25S1",
        "outputId": "c6669ba3-1986-49ee-fb44-3d6e99d9838f"
      },
      "execution_count": 57,
      "outputs": [
        {
          "output_type": "execute_result",
          "data": {
            "text/plain": [
              "tensor(4.4721)"
            ]
          },
          "metadata": {},
          "execution_count": 57
        }
      ]
    },
    {
      "cell_type": "code",
      "source": [],
      "metadata": {
        "id": "j2DYob1G5Zjn"
      },
      "execution_count": null,
      "outputs": []
    }
  ]
}