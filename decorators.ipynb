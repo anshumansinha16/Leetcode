{
  "nbformat": 4,
  "nbformat_minor": 0,
  "metadata": {
    "colab": {
      "provenance": []
    },
    "kernelspec": {
      "name": "python3",
      "display_name": "Python 3"
    },
    "language_info": {
      "name": "python"
    }
  },
  "cells": [
    {
      "cell_type": "code",
      "execution_count": 1,
      "metadata": {
        "id": "LOsH9ucY6tLX",
        "outputId": "fcfdcc52-30ae-4e67-9e8c-64ad04c38372",
        "colab": {
          "base_uri": "https://localhost:8080/"
        }
      },
      "outputs": [
        {
          "output_type": "stream",
          "name": "stdout",
          "text": [
            "display_info ran with arguments (Tom, 22)\n",
            "display_info ran in: 1.0012187957763672 sec\n"
          ]
        }
      ],
      "source": [
        "# Decorators\n",
        "from functools import wraps\n",
        "\n",
        "\n",
        "def my_logger(orig_func):\n",
        "    import logging\n",
        "    logging.basicConfig(filename='{}.log'.format(orig_func.__name__), level=logging.INFO)\n",
        "\n",
        "    @wraps(orig_func)\n",
        "    def wrapper(*args, **kwargs):\n",
        "        logging.info(\n",
        "            'Ran with args: {}, and kwargs: {}'.format(args, kwargs))\n",
        "        return orig_func(*args, **kwargs)\n",
        "\n",
        "    return wrapper\n",
        "\n",
        "\n",
        "def my_timer(orig_func):\n",
        "    import time\n",
        "\n",
        "    @wraps(orig_func)\n",
        "    def wrapper(*args, **kwargs):\n",
        "        t1 = time.time()\n",
        "        result = orig_func(*args, **kwargs)\n",
        "        t2 = time.time() - t1\n",
        "        print('{} ran in: {} sec'.format(orig_func.__name__, t2))\n",
        "        return result\n",
        "\n",
        "    return wrapper\n",
        "\n",
        "import time\n",
        "\n",
        "\n",
        "@my_logger\n",
        "@my_timer\n",
        "def display_info(name, age):\n",
        "    time.sleep(1)\n",
        "    print('display_info ran with arguments ({}, {})'.format(name, age))\n",
        "\n",
        "display_info('Tom', 22)"
      ]
    },
    {
      "cell_type": "code",
      "source": [],
      "metadata": {
        "id": "RDuKUeLv6x93"
      },
      "execution_count": null,
      "outputs": []
    }
  ]
}