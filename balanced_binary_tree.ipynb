{
  "nbformat": 4,
  "nbformat_minor": 0,
  "metadata": {
    "colab": {
      "provenance": []
    },
    "kernelspec": {
      "name": "python3",
      "display_name": "Python 3"
    },
    "language_info": {
      "name": "python"
    }
  },
  "cells": [
    {
      "cell_type": "code",
      "execution_count": null,
      "metadata": {
        "id": "pepyPw0hI4lm"
      },
      "outputs": [],
      "source": [
        "# Definition for a binary tree node.\n",
        "# class TreeNode(object):\n",
        "#     def __init__(self, val=0, left=None, right=None):\n",
        "#         self.val = val\n",
        "#         self.left = left\n",
        "#         self.right = right\n",
        "class Solution(object):\n",
        "\n",
        "    def height(self,root):\n",
        "        if not root:\n",
        "            return -1\n",
        "\n",
        "        lh = self.height(root.left)\n",
        "        rh = self.height(root.right)\n",
        "        h = max(lh,rh)+1\n",
        "\n",
        "        return h\n",
        "\n",
        "    def isBalanced(self, root):\n",
        "        \"\"\"\n",
        "        :type root: TreeNode\n",
        "        :rtype: bool\n",
        "        \"\"\"\n",
        "        if not root:\n",
        "            return True\n",
        "\n",
        "        lh = self.height(root.left)\n",
        "        rh = self.height(root.right)\n",
        "\n",
        "        if self.isBalanced(root.left) and self.isBalanced(root.right) and (abs(lh-rh)<=1):\n",
        "            return True\n",
        "        else:\n",
        "            return False\n",
        "\n",
        "\n"
      ]
    }
  ]
}