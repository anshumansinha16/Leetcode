{
  "nbformat": 4,
  "nbformat_minor": 0,
  "metadata": {
    "colab": {
      "provenance": []
    },
    "kernelspec": {
      "name": "python3",
      "display_name": "Python 3"
    },
    "language_info": {
      "name": "python"
    }
  },
  "cells": [
    {
      "cell_type": "code",
      "execution_count": 1,
      "metadata": {
        "id": "RREqWZ5yXt8F"
      },
      "outputs": [],
      "source": [
        "class BinarySearchTreeNode:\n",
        "    \n",
        "    elements = []\n",
        "\n",
        "    def __init__(self, data):\n",
        "        self.data = data\n",
        "        self.left = None\n",
        "        self.right = None\n",
        "\n",
        "    def add_child(self, data):\n",
        "        if data == self.data:\n",
        "            return # node already exist\n",
        "\n",
        "        if data < self.data:\n",
        "            if self.left:\n",
        "                self.left.add_child(data)\n",
        "            else:\n",
        "                self.left = BinarySearchTreeNode(data)\n",
        "        else:\n",
        "            if self.right:\n",
        "                self.right.add_child(data)\n",
        "            else:\n",
        "                self.right = BinarySearchTreeNode(data)\n",
        "\n",
        "\n",
        "    def search(self, val):\n",
        "        if self.data == val:\n",
        "            return True\n",
        "\n",
        "        if val < self.data:\n",
        "            if self.left:\n",
        "                return self.left.search(val)\n",
        "            else:\n",
        "                return False\n",
        "\n",
        "        if val > self.data:\n",
        "            if self.right:\n",
        "                return self.right.search(val)\n",
        "            else:\n",
        "                return False\n",
        "\n",
        "    def in_order_traversal(self):\n",
        "        \n",
        "        if self.left:\n",
        "            self.left.in_order_traversal()\n",
        "\n",
        "        self.elements.append(self.data)\n",
        "\n",
        "        if self.right:\n",
        "            self.right.in_order_traversal()\n",
        "\n",
        "        return self.elements\n",
        "\n",
        "\n",
        "def build_tree(elements):\n",
        "    print(\"Building tree with these elements:\",elements)\n",
        "    root = BinarySearchTreeNode(elements[0])\n",
        "\n",
        "    for i in range(1,len(elements)):\n",
        "        root.add_child(elements[i])\n",
        "\n",
        "    return root\n"
      ]
    },
    {
      "cell_type": "code",
      "source": [
        "if __name__ == '__main__':\n",
        "    \n",
        "    numbers_tree = build_tree([17, 4, 1, 20, 9, 23, 18, 34])\n",
        "    print(\"In order traversal gives this sorted list:\",numbers_tree.in_order_traversal())"
      ],
      "metadata": {
        "colab": {
          "base_uri": "https://localhost:8080/"
        },
        "id": "Bo62CrASXx-4",
        "outputId": "df5fee51-a4e2-4f8e-d551-a549b3e8d2d1"
      },
      "execution_count": 2,
      "outputs": [
        {
          "output_type": "stream",
          "name": "stdout",
          "text": [
            "Building tree with these elements: [17, 4, 1, 20, 9, 23, 18, 34]\n",
            "In order traversal gives this sorted list: [1, 4, 9, 17, 18, 20, 23, 34]\n"
          ]
        }
      ]
    },
    {
      "cell_type": "code",
      "source": [
        "a = [1,2,3]\n",
        "b = ['x','y','z']\n",
        "a+b"
      ],
      "metadata": {
        "colab": {
          "base_uri": "https://localhost:8080/"
        },
        "id": "tExQVKW6XydF",
        "outputId": "b23c36a5-dfb7-4c48-d890-de76aacba647"
      },
      "execution_count": 3,
      "outputs": [
        {
          "output_type": "execute_result",
          "data": {
            "text/plain": [
              "[1, 2, 3, 'x', 'y', 'z']"
            ]
          },
          "metadata": {},
          "execution_count": 3
        }
      ]
    },
    {
      "cell_type": "code",
      "source": [],
      "metadata": {
        "id": "U0DZv-wcX0Iw"
      },
      "execution_count": null,
      "outputs": []
    }
  ]
}